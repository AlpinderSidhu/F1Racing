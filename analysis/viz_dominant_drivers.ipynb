{
 "cells": [
  {
   "cell_type": "code",
   "execution_count": 0,
   "metadata": {
    "application/vnd.databricks.v1+cell": {
     "cellMetadata": {
      "byteLimit": 2048000,
      "rowLimit": 10000
     },
     "inputWidgets": {},
     "nuid": "af356677-125c-4a1d-afd3-7a60c736c249",
     "showTitle": false,
     "title": ""
    }
   },
   "outputs": [],
   "source": [
    "%python\n",
    "html = \"\"\"<h1 style=\"color:Black;text-align:center;font-family:Ariel\">Report on Dominant Formula 1 Drivers</h1>\"\"\"\n",
    "displayHTML(html)"
   ]
  },
  {
   "cell_type": "code",
   "execution_count": 0,
   "metadata": {
    "application/vnd.databricks.v1+cell": {
     "cellMetadata": {
      "byteLimit": 2048000,
      "rowLimit": 10000
     },
     "inputWidgets": {},
     "nuid": "f3bc582c-2344-4f4b-8d77-4d3ea0796488",
     "showTitle": false,
     "title": ""
    }
   },
   "outputs": [],
   "source": [
    "create or replace temp view v_dominant_drivers\n",
    "as\n",
    "select \n",
    "  driver_name,\n",
    "  count(1) as total_races,\n",
    "  sum(calculated_points) as total_points,\n",
    "  avg(calculated_points) as avg_points,\n",
    "  rank() over (order by avg(calculated_points) desc) as driver_rank\n",
    "from f1_presentation.calculated_race_results \n",
    "group by driver_name\n",
    "having total_races >= 50\n",
    "order by avg_points desc;"
   ]
  },
  {
   "cell_type": "code",
   "execution_count": 0,
   "metadata": {
    "application/vnd.databricks.v1+cell": {
     "cellMetadata": {
      "byteLimit": 2048000,
      "rowLimit": 10000
     },
     "inputWidgets": {},
     "nuid": "91a76486-49d6-4798-ac54-a4dbe33e1174",
     "showTitle": true,
     "title": "Line Chart"
    }
   },
   "outputs": [
    {
     "output_type": "display_data",
     "data": {
      "text/plain": [
       "Databricks visualization. Run in Databricks to view."
      ]
     },
     "metadata": {
      "application/vnd.databricks.v1.subcommand+json": {
       "baseErrorDetails": null,
       "bindings": {},
       "collapsed": false,
       "command": "%sql WITH q AS (select race_year,\n  driver_name,\n  count(1) as total_races,\n  sum(calculated_points) as total_points,\n  avg(calculated_points) as avg_points\nfrom f1_presentation.calculated_race_results \nwhere driver_name in (select driver_name from v_dominant_drivers where driver_rank <= 10)\ngroup by race_year,driver_name\norder by race_year,avg_points desc) SELECT `race_year`,`driver_name`,SUM(`avg_points`) `column_cb04389c28` FROM q GROUP BY `driver_name`,`race_year`",
       "commandTitle": "Visualization 1",
       "commandType": "auto",
       "commandVersion": 0,
       "commentThread": [],
       "commentsVisible": false,
       "contentSha256Hex": null,
       "customPlotOptions": {
        "redashChart": [
         {
          "key": "type",
          "value": "CHART"
         },
         {
          "key": "options",
          "value": {
           "alignYAxesAtZero": true,
           "coefficient": 1,
           "columnConfigurationMap": {
            "series": {
             "column": "driver_name",
             "id": "column_cb04389c20"
            },
            "x": {
             "column": "race_year",
             "id": "column_cb04389c23"
            },
            "y": [
             {
              "column": "avg_points",
              "id": "column_cb04389c28",
              "transform": "SUM"
             }
            ]
           },
           "dateTimeFormat": "DD/MM/YYYY HH:mm",
           "direction": {
            "type": "counterclockwise"
           },
           "error_y": {
            "type": "data",
            "visible": true
           },
           "globalSeriesType": "line",
           "isAggregationOn": true,
           "legend": {
            "traceorder": "normal"
           },
           "missingValuesAsZero": true,
           "numBins": 10,
           "numberFormat": "0,0.[00000]",
           "percentFormat": "0[.]00%",
           "series": {
            "error_y": {
             "type": "data",
             "visible": true
            },
            "percentValues": false,
            "stacking": null
           },
           "seriesOptions": {
            "column_cb04389c25": {
             "type": "line",
             "yAxis": 0
            },
            "column_cb04389c28": {
             "type": "line",
             "yAxis": 0
            },
            "column_cb04389c5": {
             "type": "line",
             "yAxis": 0
            }
           },
           "showDataLabels": false,
           "sizemode": "diameter",
           "sortX": true,
           "sortY": true,
           "swappedAxes": false,
           "textFormat": "",
           "useAggregationsUi": true,
           "valuesOptions": {},
           "version": 2,
           "xAxis": {
            "labels": {
             "enabled": true
            },
            "type": "-"
           },
           "yAxis": [
            {
             "type": "-"
            },
            {
             "opposite": true,
             "type": "-"
            }
           ]
          }
         }
        ]
       },
       "datasetPreviewNameToCmdIdMap": {},
       "diffDeletes": [],
       "diffInserts": [],
       "displayType": "redashChart",
       "error": null,
       "errorDetails": null,
       "errorSummary": null,
       "errorTraceType": null,
       "finishTime": 0,
       "globalVars": {},
       "guid": "",
       "height": "auto",
       "hideCommandCode": false,
       "hideCommandResult": false,
       "iPythonMetadata": null,
       "inputWidgets": {},
       "isLockedInExamMode": false,
       "latestUser": "a user",
       "latestUserId": null,
       "listResultMetadata": null,
       "metadata": {
        "byteLimit": 2048000,
        "rowLimit": 10000
       },
       "nuid": "1876b315-691e-4af7-af21-d25d2f7720d5",
       "origId": 0,
       "parentHierarchy": [],
       "pivotAggregation": null,
       "pivotColumns": null,
       "position": 3.0,
       "resultDbfsErrorMessage": null,
       "resultDbfsStatus": "INLINED_IN_TREE",
       "results": null,
       "showCommandTitle": false,
       "startTime": 0,
       "state": "input",
       "streamStates": {},
       "subcommandOptions": {
        "queryPlan": {
         "groups": [
          {
           "column": "race_year",
           "type": "column"
          },
          {
           "column": "driver_name",
           "type": "column"
          }
         ],
         "selects": [
          {
           "column": "race_year",
           "type": "column"
          },
          {
           "column": "driver_name",
           "type": "column"
          },
          {
           "alias": "column_cb04389c28",
           "args": [
            {
             "column": "avg_points",
             "type": "column"
            }
           ],
           "function": "SUM",
           "type": "function"
          }
         ]
        }
       },
       "submitTime": 0,
       "subtype": "tableResultSubCmd.visualization",
       "tableResultIndex": 0,
       "useConsistentColors": false,
       "version": "CommandV1",
       "width": "auto",
       "workflows": null,
       "xColumns": null,
       "yColumns": null
      }
     },
     "output_type": "display_data"
    }
   ],
   "source": [
    "select race_year,\n",
    "  driver_name,\n",
    "  count(1) as total_races,\n",
    "  sum(calculated_points) as total_points,\n",
    "  avg(calculated_points) as avg_points\n",
    "from f1_presentation.calculated_race_results \n",
    "where driver_name in (select driver_name from v_dominant_drivers where driver_rank <= 10)\n",
    "group by race_year,driver_name\n",
    "order by race_year,avg_points desc;"
   ]
  },
  {
   "cell_type": "code",
   "execution_count": 0,
   "metadata": {
    "application/vnd.databricks.v1+cell": {
     "cellMetadata": {
      "byteLimit": 2048000,
      "rowLimit": 10000
     },
     "inputWidgets": {},
     "nuid": "3b501b4e-ed29-4f49-87e5-2c3a0631db06",
     "showTitle": true,
     "title": "Bar Chart"
    }
   },
   "outputs": [
    {
     "output_type": "display_data",
     "data": {
      "text/plain": [
       "Databricks visualization. Run in Databricks to view."
      ]
     },
     "metadata": {
      "application/vnd.databricks.v1.subcommand+json": {
       "baseErrorDetails": null,
       "bindings": {},
       "collapsed": false,
       "command": "%sql WITH q AS (select race_year,\n  driver_name,\n  count(1) as total_races,\n  sum(calculated_points) as total_points,\n  avg(calculated_points) as avg_points\nfrom f1_presentation.calculated_race_results \nwhere driver_name in (select driver_name from v_dominant_drivers where driver_rank <= 10)\ngroup by race_year,driver_name\norder by race_year,avg_points desc) SELECT `driver_name`,SUM(`total_races`) `column_29580b2b3`,SUM(`total_points`) `column_29580b2b6` FROM q GROUP BY `driver_name`",
       "commandTitle": "Visualization 1",
       "commandType": "auto",
       "commandVersion": 0,
       "commentThread": [],
       "commentsVisible": false,
       "contentSha256Hex": null,
       "customPlotOptions": {
        "redashChart": [
         {
          "key": "type",
          "value": "CHART"
         },
         {
          "key": "options",
          "value": {
           "alignYAxesAtZero": true,
           "coefficient": 1,
           "columnConfigurationMap": {
            "x": {
             "column": "driver_name",
             "id": "column_29580b2b1"
            },
            "y": [
             {
              "column": "total_races",
              "id": "column_29580b2b3",
              "transform": "SUM"
             },
             {
              "column": "total_points",
              "id": "column_29580b2b6",
              "transform": "SUM"
             }
            ]
           },
           "dateTimeFormat": "DD/MM/YYYY HH:mm",
           "direction": {
            "type": "counterclockwise"
           },
           "error_y": {
            "type": "data",
            "visible": true
           },
           "globalSeriesType": "column",
           "isAggregationOn": true,
           "legend": {
            "traceorder": "normal"
           },
           "missingValuesAsZero": true,
           "numberFormat": "0,0.[00000]",
           "percentFormat": "0[.]00%",
           "series": {
            "error_y": {
             "type": "data",
             "visible": true
            },
            "stacking": null
           },
           "seriesOptions": {
            "column_29580b2b3": {
             "type": "column",
             "yAxis": 0
            },
            "column_29580b2b6": {
             "type": "column",
             "yAxis": 0
            }
           },
           "showDataLabels": false,
           "sizemode": "diameter",
           "sortX": true,
           "sortY": true,
           "swappedAxes": false,
           "textFormat": "",
           "useAggregationsUi": true,
           "valuesOptions": {},
           "version": 2,
           "xAxis": {
            "labels": {
             "enabled": true
            },
            "type": "-"
           },
           "yAxis": [
            {
             "type": "-"
            },
            {
             "opposite": true,
             "type": "-"
            }
           ]
          }
         }
        ]
       },
       "datasetPreviewNameToCmdIdMap": {},
       "diffDeletes": [],
       "diffInserts": [],
       "displayType": "redashChart",
       "error": null,
       "errorDetails": null,
       "errorSummary": null,
       "errorTraceType": null,
       "finishTime": 0,
       "globalVars": {},
       "guid": "",
       "height": "auto",
       "hideCommandCode": false,
       "hideCommandResult": false,
       "iPythonMetadata": null,
       "inputWidgets": {},
       "isLockedInExamMode": false,
       "latestUser": "a user",
       "latestUserId": null,
       "listResultMetadata": null,
       "metadata": {
        "byteLimit": 2048000,
        "rowLimit": 10000
       },
       "nuid": "a287da3a-bf08-4537-b82d-4bbce58db335",
       "origId": 0,
       "parentHierarchy": [],
       "pivotAggregation": null,
       "pivotColumns": null,
       "position": 4.0,
       "resultDbfsErrorMessage": null,
       "resultDbfsStatus": "INLINED_IN_TREE",
       "results": null,
       "showCommandTitle": false,
       "startTime": 0,
       "state": "input",
       "streamStates": {},
       "subcommandOptions": {
        "queryPlan": {
         "groups": [
          {
           "column": "driver_name",
           "type": "column"
          }
         ],
         "selects": [
          {
           "column": "driver_name",
           "type": "column"
          },
          {
           "alias": "column_29580b2b3",
           "args": [
            {
             "column": "total_races",
             "type": "column"
            }
           ],
           "function": "SUM",
           "type": "function"
          },
          {
           "alias": "column_29580b2b6",
           "args": [
            {
             "column": "total_points",
             "type": "column"
            }
           ],
           "function": "SUM",
           "type": "function"
          }
         ]
        }
       },
       "submitTime": 0,
       "subtype": "tableResultSubCmd.visualization",
       "tableResultIndex": 0,
       "useConsistentColors": false,
       "version": "CommandV1",
       "width": "auto",
       "workflows": null,
       "xColumns": null,
       "yColumns": null
      }
     },
     "output_type": "display_data"
    }
   ],
   "source": [
    "select race_year,\n",
    "  driver_name,\n",
    "  count(1) as total_races,\n",
    "  sum(calculated_points) as total_points,\n",
    "  avg(calculated_points) as avg_points\n",
    "from f1_presentation.calculated_race_results \n",
    "where driver_name in (select driver_name from v_dominant_drivers where driver_rank <= 10)\n",
    "group by race_year,driver_name\n",
    "order by race_year,avg_points desc;"
   ]
  },
  {
   "cell_type": "code",
   "execution_count": 0,
   "metadata": {
    "application/vnd.databricks.v1+cell": {
     "cellMetadata": {
      "byteLimit": 2048000,
      "rowLimit": 10000
     },
     "inputWidgets": {},
     "nuid": "0b958f3f-54e4-42f6-af8c-f45e770d0e8c",
     "showTitle": false,
     "title": ""
    }
   },
   "outputs": [
    {
     "output_type": "display_data",
     "data": {
      "text/plain": [
       "Databricks visualization. Run in Databricks to view."
      ]
     },
     "metadata": {
      "application/vnd.databricks.v1.subcommand+json": {
       "baseErrorDetails": null,
       "bindings": {},
       "collapsed": false,
       "command": "%sql WITH q AS (select race_year,\n  driver_name,\n  count(1) as total_races,\n  sum(calculated_points) as total_points,\n  avg(calculated_points) as avg_points\nfrom f1_presentation.calculated_race_results \nwhere driver_name in (select driver_name from v_dominant_drivers where driver_rank <= 10)\ngroup by race_year,driver_name\norder by race_year,avg_points desc) SELECT `race_year`,AVG(`avg_points`) `column_29580b2b12`,`driver_name` FROM q GROUP BY `driver_name`,`race_year`",
       "commandTitle": "Visualization 1",
       "commandType": "auto",
       "commandVersion": 0,
       "commentThread": [],
       "commentsVisible": false,
       "contentSha256Hex": null,
       "customPlotOptions": {
        "redashChart": [
         {
          "key": "type",
          "value": "CHART"
         },
         {
          "key": "options",
          "value": {
           "alignYAxesAtZero": true,
           "coefficient": 1,
           "columnConfigurationMap": {
            "series": {
             "column": "driver_name",
             "id": "column_29580b2b14"
            },
            "x": {
             "column": "race_year",
             "id": "column_29580b2b10"
            },
            "y": [
             {
              "column": "avg_points",
              "id": "column_29580b2b12",
              "transform": "AVG"
             }
            ]
           },
           "dateTimeFormat": "DD/MM/YYYY HH:mm",
           "direction": {
            "type": "counterclockwise"
           },
           "error_y": {
            "type": "data",
            "visible": true
           },
           "globalSeriesType": "area",
           "isAggregationOn": true,
           "legend": {
            "traceorder": "normal"
           },
           "missingValuesAsZero": true,
           "numberFormat": "0,0.[00000]",
           "percentFormat": "0[.]00%",
           "series": {
            "error_y": {
             "type": "data",
             "visible": true
            },
            "stacking": null
           },
           "seriesOptions": {
            "column_29580b2b12": {
             "type": "area",
             "yAxis": 0
            }
           },
           "showDataLabels": false,
           "sizemode": "diameter",
           "sortX": true,
           "sortY": true,
           "swappedAxes": false,
           "textFormat": "",
           "useAggregationsUi": true,
           "valuesOptions": {},
           "version": 2,
           "xAxis": {
            "labels": {
             "enabled": true
            },
            "type": "-"
           },
           "yAxis": [
            {
             "type": "-"
            },
            {
             "opposite": true,
             "type": "-"
            }
           ]
          }
         }
        ]
       },
       "datasetPreviewNameToCmdIdMap": {},
       "diffDeletes": [],
       "diffInserts": [],
       "displayType": "redashChart",
       "error": null,
       "errorDetails": null,
       "errorSummary": null,
       "errorTraceType": null,
       "finishTime": 0,
       "globalVars": {},
       "guid": "",
       "height": "auto",
       "hideCommandCode": false,
       "hideCommandResult": false,
       "iPythonMetadata": null,
       "inputWidgets": {},
       "isLockedInExamMode": false,
       "latestUser": "a user",
       "latestUserId": null,
       "listResultMetadata": null,
       "metadata": {
        "byteLimit": 2048000,
        "rowLimit": 10000
       },
       "nuid": "f745c8c4-2043-4e9f-85d0-78e7d451beaa",
       "origId": 0,
       "parentHierarchy": [],
       "pivotAggregation": null,
       "pivotColumns": null,
       "position": 5.0,
       "resultDbfsErrorMessage": null,
       "resultDbfsStatus": "INLINED_IN_TREE",
       "results": null,
       "showCommandTitle": false,
       "startTime": 0,
       "state": "input",
       "streamStates": {},
       "subcommandOptions": {
        "queryPlan": {
         "groups": [
          {
           "column": "race_year",
           "type": "column"
          },
          {
           "column": "driver_name",
           "type": "column"
          }
         ],
         "selects": [
          {
           "column": "race_year",
           "type": "column"
          },
          {
           "alias": "column_29580b2b12",
           "args": [
            {
             "column": "avg_points",
             "type": "column"
            }
           ],
           "function": "AVG",
           "type": "function"
          },
          {
           "column": "driver_name",
           "type": "column"
          }
         ]
        }
       },
       "submitTime": 0,
       "subtype": "tableResultSubCmd.visualization",
       "tableResultIndex": 0,
       "useConsistentColors": false,
       "version": "CommandV1",
       "width": "auto",
       "workflows": null,
       "xColumns": null,
       "yColumns": null
      }
     },
     "output_type": "display_data"
    }
   ],
   "source": [
    "select race_year,\n",
    "  driver_name,\n",
    "  count(1) as total_races,\n",
    "  sum(calculated_points) as total_points,\n",
    "  avg(calculated_points) as avg_points\n",
    "from f1_presentation.calculated_race_results \n",
    "where driver_name in (select driver_name from v_dominant_drivers where driver_rank <= 10)\n",
    "group by race_year,driver_name\n",
    "order by race_year,avg_points desc;"
   ]
  }
 ],
 "metadata": {
  "application/vnd.databricks.v1+notebook": {
   "dashboards": [
    {
     "elements": [
      {
       "dashboardResultIndex": 0,
       "elementNUID": "af356677-125c-4a1d-afd3-7a60c736c249",
       "elementType": "command",
       "guid": "22fa19cd-6b20-49ba-8ee0-bc0c6d8cc0a5",
       "options": null,
       "position": {
        "height": 2,
        "width": 21,
        "x": 0,
        "y": 0,
        "z": null
       },
       "resultIndex": null
      },
      {
       "dashboardResultIndex": null,
       "elementNUID": "1876b315-691e-4af7-af21-d25d2f7720d5",
       "elementType": "command",
       "guid": "303c9c13-4599-4c51-ad7f-6ebc59940d7c",
       "options": null,
       "position": {
        "height": 5,
        "width": 12,
        "x": 0,
        "y": 2,
        "z": null
       },
       "resultIndex": null
      },
      {
       "dashboardResultIndex": null,
       "elementNUID": "f745c8c4-2043-4e9f-85d0-78e7d451beaa",
       "elementType": "command",
       "guid": "98e958af-c422-4362-ba18-2a8fa37fb040",
       "options": null,
       "position": {
        "height": 5,
        "width": 9,
        "x": 12,
        "y": 2,
        "z": null
       },
       "resultIndex": null
      }
     ],
     "globalVars": {},
     "guid": "",
     "layoutOption": {
      "grid": true,
      "stack": true
     },
     "nuid": "6d4bfd55-2456-47b4-9f65-f3cbac4097bb",
     "origId": 3224618839136574,
     "title": "F1 Dominant Drivers",
     "version": "DashboardViewV1",
     "width": 1920
    }
   ],
   "environmentMetadata": null,
   "language": "sql",
   "notebookMetadata": {
    "pythonIndentUnit": 4
   },
   "notebookName": "viz_dominant_drivers",
   "widgets": {}
  }
 },
 "nbformat": 4,
 "nbformat_minor": 0
}
